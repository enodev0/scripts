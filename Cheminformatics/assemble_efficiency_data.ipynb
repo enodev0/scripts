{
 "cells": [
  {
   "cell_type": "code",
   "execution_count": 1,
   "metadata": {},
   "outputs": [
    {
     "name": "stderr",
     "output_type": "stream",
     "text": [
      "── Attaching packages ─────────────────────────────────────── tidyverse 1.2.1 ──\n",
      "✔ ggplot2 3.0.0     ✔ purrr   0.2.5\n",
      "✔ tibble  1.4.2     ✔ dplyr   0.7.6\n",
      "✔ tidyr   0.8.1     ✔ stringr 1.3.1\n",
      "✔ readr   1.1.1     ✔ forcats 0.3.0\n",
      "── Conflicts ────────────────────────────────────────── tidyverse_conflicts() ──\n",
      "✖ dplyr::filter() masks stats::filter()\n",
      "✖ dplyr::lag()    masks stats::lag()\n"
     ]
    }
   ],
   "source": [
    "library(tidyverse)"
   ]
  },
  {
   "cell_type": "code",
   "execution_count": 2,
   "metadata": {},
   "outputs": [
    {
     "name": "stderr",
     "output_type": "stream",
     "text": [
      "Parsed with column specification:\n",
      "cols(\n",
      "  Ligands = col_character(),\n",
      "  `mean-dG` = col_double(),\n",
      "  `stdev-dG` = col_integer(),\n",
      "  `#samples` = col_integer()\n",
      ")\n",
      "Parsed with column specification:\n",
      "cols(\n",
      "  Ligands = col_character(),\n",
      "  `mean-dG` = col_double(),\n",
      "  `stdev-dG` = col_integer(),\n",
      "  `#samples` = col_integer()\n",
      ")\n"
     ]
    }
   ],
   "source": [
    "iso1_dG <- read_csv(file = \"screenres-isoform1-Modified.csv\", col_names=TRUE)\n",
    "iso2_dG <- read_csv(file = \"screenres-isoform2-Modified.csv\", col_names=TRUE)"
   ]
  },
  {
   "cell_type": "code",
   "execution_count": 4,
   "metadata": {},
   "outputs": [
    {
     "data": {
      "text/html": [
       "<table>\n",
       "<thead><tr><th scope=col>Ligands</th><th scope=col>mean-dG</th><th scope=col>stdev-dG</th><th scope=col>#samples</th></tr></thead>\n",
       "<tbody>\n",
       "\t<tr><td>reduce-134</td><td>-7.2      </td><td>0         </td><td>1         </td></tr>\n",
       "\t<tr><td>reduce-449</td><td>-7.2      </td><td>0         </td><td>1         </td></tr>\n",
       "\t<tr><td>reduce-439</td><td>-7.2      </td><td>0         </td><td>1         </td></tr>\n",
       "\t<tr><td>reduce-419</td><td>-7.0      </td><td>0         </td><td>1         </td></tr>\n",
       "\t<tr><td>reduce-83 </td><td>-7.0      </td><td>0         </td><td>1         </td></tr>\n",
       "\t<tr><td>reduce-287</td><td>-7.0      </td><td>0         </td><td>1         </td></tr>\n",
       "</tbody>\n",
       "</table>\n"
      ],
      "text/latex": [
       "\\begin{tabular}{r|llll}\n",
       " Ligands & mean-dG & stdev-dG & \\#samples\\\\\n",
       "\\hline\n",
       "\t reduce-134 & -7.2       & 0          & 1         \\\\\n",
       "\t reduce-449 & -7.2       & 0          & 1         \\\\\n",
       "\t reduce-439 & -7.2       & 0          & 1         \\\\\n",
       "\t reduce-419 & -7.0       & 0          & 1         \\\\\n",
       "\t reduce-83  & -7.0       & 0          & 1         \\\\\n",
       "\t reduce-287 & -7.0       & 0          & 1         \\\\\n",
       "\\end{tabular}\n"
      ],
      "text/markdown": [
       "\n",
       "Ligands | mean-dG | stdev-dG | #samples | \n",
       "|---|---|---|---|---|---|\n",
       "| reduce-134 | -7.2       | 0          | 1          | \n",
       "| reduce-449 | -7.2       | 0          | 1          | \n",
       "| reduce-439 | -7.2       | 0          | 1          | \n",
       "| reduce-419 | -7.0       | 0          | 1          | \n",
       "| reduce-83  | -7.0       | 0          | 1          | \n",
       "| reduce-287 | -7.0       | 0          | 1          | \n",
       "\n",
       "\n"
      ],
      "text/plain": [
       "  Ligands    mean-dG stdev-dG #samples\n",
       "1 reduce-134 -7.2    0        1       \n",
       "2 reduce-449 -7.2    0        1       \n",
       "3 reduce-439 -7.2    0        1       \n",
       "4 reduce-419 -7.0    0        1       \n",
       "5 reduce-83  -7.0    0        1       \n",
       "6 reduce-287 -7.0    0        1       "
      ]
     },
     "metadata": {},
     "output_type": "display_data"
    },
    {
     "data": {
      "text/html": [
       "<table>\n",
       "<thead><tr><th scope=col>Ligands</th><th scope=col>mean-dG</th><th scope=col>stdev-dG</th><th scope=col>#samples</th></tr></thead>\n",
       "<tbody>\n",
       "\t<tr><td>reduce-134  </td><td>-8.2        </td><td>0           </td><td>1           </td></tr>\n",
       "\t<tr><td>D1Tric      </td><td>-7.8        </td><td>0           </td><td>1           </td></tr>\n",
       "\t<tr><td>reduce-38   </td><td>-7.7        </td><td>0           </td><td>1           </td></tr>\n",
       "\t<tr><td>reduce-443  </td><td>-7.7        </td><td>0           </td><td>1           </td></tr>\n",
       "\t<tr><td>reduce-78   </td><td>-7.6        </td><td>0           </td><td>1           </td></tr>\n",
       "\t<tr><td>troglitazone</td><td>-7.5        </td><td>0           </td><td>1           </td></tr>\n",
       "</tbody>\n",
       "</table>\n"
      ],
      "text/latex": [
       "\\begin{tabular}{r|llll}\n",
       " Ligands & mean-dG & stdev-dG & \\#samples\\\\\n",
       "\\hline\n",
       "\t reduce-134   & -8.2         & 0            & 1           \\\\\n",
       "\t D1Tric       & -7.8         & 0            & 1           \\\\\n",
       "\t reduce-38    & -7.7         & 0            & 1           \\\\\n",
       "\t reduce-443   & -7.7         & 0            & 1           \\\\\n",
       "\t reduce-78    & -7.6         & 0            & 1           \\\\\n",
       "\t troglitazone & -7.5         & 0            & 1           \\\\\n",
       "\\end{tabular}\n"
      ],
      "text/markdown": [
       "\n",
       "Ligands | mean-dG | stdev-dG | #samples | \n",
       "|---|---|---|---|---|---|\n",
       "| reduce-134   | -8.2         | 0            | 1            | \n",
       "| D1Tric       | -7.8         | 0            | 1            | \n",
       "| reduce-38    | -7.7         | 0            | 1            | \n",
       "| reduce-443   | -7.7         | 0            | 1            | \n",
       "| reduce-78    | -7.6         | 0            | 1            | \n",
       "| troglitazone | -7.5         | 0            | 1            | \n",
       "\n",
       "\n"
      ],
      "text/plain": [
       "  Ligands      mean-dG stdev-dG #samples\n",
       "1 reduce-134   -8.2    0        1       \n",
       "2 D1Tric       -7.8    0        1       \n",
       "3 reduce-38    -7.7    0        1       \n",
       "4 reduce-443   -7.7    0        1       \n",
       "5 reduce-78    -7.6    0        1       \n",
       "6 troglitazone -7.5    0        1       "
      ]
     },
     "metadata": {},
     "output_type": "display_data"
    }
   ],
   "source": [
    "head(iso1_dG)\n",
    "head(iso2_dG)"
   ]
  },
  {
   "cell_type": "code",
   "execution_count": 5,
   "metadata": {},
   "outputs": [
    {
     "name": "stderr",
     "output_type": "stream",
     "text": [
      "Parsed with column specification:\n",
      "cols(\n",
      "  Ligand = col_character(),\n",
      "  MW = col_double(),\n",
      "  TPSA = col_double()\n",
      ")\n"
     ]
    }
   ],
   "source": [
    "tpsa_mw <- read_csv(file = \"tpsa-mw-screenlib.csv\", col_names=TRUE)"
   ]
  },
  {
   "cell_type": "code",
   "execution_count": 6,
   "metadata": {
    "collapsed": true
   },
   "outputs": [],
   "source": [
    "colnames(tpsa_mw)[1] <- \"Ligands\""
   ]
  },
  {
   "cell_type": "code",
   "execution_count": 7,
   "metadata": {
    "collapsed": true
   },
   "outputs": [],
   "source": [
    "iso1_dG <- iso1_dG[,-c(3,4)]"
   ]
  },
  {
   "cell_type": "code",
   "execution_count": 8,
   "metadata": {
    "collapsed": true
   },
   "outputs": [],
   "source": [
    "iso2_dG <- iso2_dG[,-c(3,4)]"
   ]
  },
  {
   "cell_type": "code",
   "execution_count": 9,
   "metadata": {
    "collapsed": true
   },
   "outputs": [],
   "source": [
    "i1class <- replicate(length(iso1_dG$Ligands), \"1\")\n",
    "i2class <- replicate(length(iso2_dG$Ligands), \"2\")"
   ]
  },
  {
   "cell_type": "code",
   "execution_count": 10,
   "metadata": {},
   "outputs": [
    {
     "name": "stderr",
     "output_type": "stream",
     "text": [
      "Joining, by = \"Ligands\"\n",
      "Joining, by = \"Ligands\"\n"
     ]
    }
   ],
   "source": [
    "df1 <- inner_join(iso1_dG, tpsa_mw)\n",
    "df2 <- inner_join(iso2_dG, tpsa_mw)"
   ]
  },
  {
   "cell_type": "code",
   "execution_count": 11,
   "metadata": {
    "collapsed": true
   },
   "outputs": [],
   "source": [
    "colnames(df1)[2] <- \"dG\"\n",
    "colnames(df2)[2] <- \"dG\""
   ]
  },
  {
   "cell_type": "code",
   "execution_count": 12,
   "metadata": {
    "collapsed": true
   },
   "outputs": [],
   "source": [
    "df1 <- cbind(df1, i1class)\n",
    "df2 <- cbind(df2, i2class)"
   ]
  },
  {
   "cell_type": "code",
   "execution_count": 13,
   "metadata": {},
   "outputs": [
    {
     "data": {
      "text/html": [
       "<table>\n",
       "<thead><tr><th scope=col>Ligands</th><th scope=col>dG</th><th scope=col>MW</th><th scope=col>TPSA</th><th scope=col>i1class</th></tr></thead>\n",
       "<tbody>\n",
       "\t<tr><td>reduce-134</td><td>-7.2      </td><td>280.369   </td><td>86.24     </td><td>1         </td></tr>\n",
       "\t<tr><td>reduce-449</td><td>-7.2      </td><td>274.318   </td><td>65.96     </td><td>1         </td></tr>\n",
       "\t<tr><td>reduce-439</td><td>-7.2      </td><td>273.291   </td><td>86.70     </td><td>1         </td></tr>\n",
       "\t<tr><td>reduce-419</td><td>-7.0      </td><td>273.310   </td><td>73.87     </td><td>1         </td></tr>\n",
       "\t<tr><td>reduce-83 </td><td>-7.0      </td><td>272.322   </td><td>61.51     </td><td>1         </td></tr>\n",
       "\t<tr><td>reduce-287</td><td>-7.0      </td><td>261.320   </td><td>82.01     </td><td>1         </td></tr>\n",
       "</tbody>\n",
       "</table>\n"
      ],
      "text/latex": [
       "\\begin{tabular}{r|lllll}\n",
       " Ligands & dG & MW & TPSA & i1class\\\\\n",
       "\\hline\n",
       "\t reduce-134 & -7.2       & 280.369    & 86.24      & 1         \\\\\n",
       "\t reduce-449 & -7.2       & 274.318    & 65.96      & 1         \\\\\n",
       "\t reduce-439 & -7.2       & 273.291    & 86.70      & 1         \\\\\n",
       "\t reduce-419 & -7.0       & 273.310    & 73.87      & 1         \\\\\n",
       "\t reduce-83  & -7.0       & 272.322    & 61.51      & 1         \\\\\n",
       "\t reduce-287 & -7.0       & 261.320    & 82.01      & 1         \\\\\n",
       "\\end{tabular}\n"
      ],
      "text/markdown": [
       "\n",
       "Ligands | dG | MW | TPSA | i1class | \n",
       "|---|---|---|---|---|---|\n",
       "| reduce-134 | -7.2       | 280.369    | 86.24      | 1          | \n",
       "| reduce-449 | -7.2       | 274.318    | 65.96      | 1          | \n",
       "| reduce-439 | -7.2       | 273.291    | 86.70      | 1          | \n",
       "| reduce-419 | -7.0       | 273.310    | 73.87      | 1          | \n",
       "| reduce-83  | -7.0       | 272.322    | 61.51      | 1          | \n",
       "| reduce-287 | -7.0       | 261.320    | 82.01      | 1          | \n",
       "\n",
       "\n"
      ],
      "text/plain": [
       "  Ligands    dG   MW      TPSA  i1class\n",
       "1 reduce-134 -7.2 280.369 86.24 1      \n",
       "2 reduce-449 -7.2 274.318 65.96 1      \n",
       "3 reduce-439 -7.2 273.291 86.70 1      \n",
       "4 reduce-419 -7.0 273.310 73.87 1      \n",
       "5 reduce-83  -7.0 272.322 61.51 1      \n",
       "6 reduce-287 -7.0 261.320 82.01 1      "
      ]
     },
     "metadata": {},
     "output_type": "display_data"
    },
    {
     "data": {
      "text/html": [
       "<table>\n",
       "<thead><tr><th scope=col>Ligands</th><th scope=col>dG</th><th scope=col>MW</th><th scope=col>TPSA</th><th scope=col>i2class</th></tr></thead>\n",
       "<tbody>\n",
       "\t<tr><td>reduce-134  </td><td>-8.2        </td><td>280.369     </td><td> 86.24      </td><td>2           </td></tr>\n",
       "\t<tr><td>D1Tric      </td><td>-7.8        </td><td>298.379     </td><td> 61.69      </td><td>2           </td></tr>\n",
       "\t<tr><td>reduce-38   </td><td>-7.7        </td><td>278.373     </td><td> 73.01      </td><td>2           </td></tr>\n",
       "\t<tr><td>reduce-443  </td><td>-7.7        </td><td>277.365     </td><td> 68.43      </td><td>2           </td></tr>\n",
       "\t<tr><td>reduce-78   </td><td>-7.6        </td><td>274.318     </td><td> 69.70      </td><td>2           </td></tr>\n",
       "\t<tr><td>troglitazone</td><td>-7.5        </td><td>441.540     </td><td>110.16      </td><td>2           </td></tr>\n",
       "</tbody>\n",
       "</table>\n"
      ],
      "text/latex": [
       "\\begin{tabular}{r|lllll}\n",
       " Ligands & dG & MW & TPSA & i2class\\\\\n",
       "\\hline\n",
       "\t reduce-134   & -8.2         & 280.369      &  86.24       & 2           \\\\\n",
       "\t D1Tric       & -7.8         & 298.379      &  61.69       & 2           \\\\\n",
       "\t reduce-38    & -7.7         & 278.373      &  73.01       & 2           \\\\\n",
       "\t reduce-443   & -7.7         & 277.365      &  68.43       & 2           \\\\\n",
       "\t reduce-78    & -7.6         & 274.318      &  69.70       & 2           \\\\\n",
       "\t troglitazone & -7.5         & 441.540      & 110.16       & 2           \\\\\n",
       "\\end{tabular}\n"
      ],
      "text/markdown": [
       "\n",
       "Ligands | dG | MW | TPSA | i2class | \n",
       "|---|---|---|---|---|---|\n",
       "| reduce-134   | -8.2         | 280.369      |  86.24       | 2            | \n",
       "| D1Tric       | -7.8         | 298.379      |  61.69       | 2            | \n",
       "| reduce-38    | -7.7         | 278.373      |  73.01       | 2            | \n",
       "| reduce-443   | -7.7         | 277.365      |  68.43       | 2            | \n",
       "| reduce-78    | -7.6         | 274.318      |  69.70       | 2            | \n",
       "| troglitazone | -7.5         | 441.540      | 110.16       | 2            | \n",
       "\n",
       "\n"
      ],
      "text/plain": [
       "  Ligands      dG   MW      TPSA   i2class\n",
       "1 reduce-134   -8.2 280.369  86.24 2      \n",
       "2 D1Tric       -7.8 298.379  61.69 2      \n",
       "3 reduce-38    -7.7 278.373  73.01 2      \n",
       "4 reduce-443   -7.7 277.365  68.43 2      \n",
       "5 reduce-78    -7.6 274.318  69.70 2      \n",
       "6 troglitazone -7.5 441.540 110.16 2      "
      ]
     },
     "metadata": {},
     "output_type": "display_data"
    }
   ],
   "source": [
    "head(df1)\n",
    "head(df2)"
   ]
  },
  {
   "cell_type": "code",
   "execution_count": 15,
   "metadata": {
    "collapsed": true
   },
   "outputs": [],
   "source": [
    "colnames(df1)[5] <- \"Isoform\"\n",
    "colnames(df2)[5] <- \"Isoform\""
   ]
  },
  {
   "cell_type": "code",
   "execution_count": 16,
   "metadata": {},
   "outputs": [
    {
     "data": {
      "text/html": [
       "<table>\n",
       "<thead><tr><th scope=col>Ligands</th><th scope=col>dG</th><th scope=col>MW</th><th scope=col>TPSA</th><th scope=col>Isoform</th></tr></thead>\n",
       "<tbody>\n",
       "\t<tr><td>reduce-134</td><td>-7.2      </td><td>280.369   </td><td>86.24     </td><td>1         </td></tr>\n",
       "\t<tr><td>reduce-449</td><td>-7.2      </td><td>274.318   </td><td>65.96     </td><td>1         </td></tr>\n",
       "\t<tr><td>reduce-439</td><td>-7.2      </td><td>273.291   </td><td>86.70     </td><td>1         </td></tr>\n",
       "\t<tr><td>reduce-419</td><td>-7.0      </td><td>273.310   </td><td>73.87     </td><td>1         </td></tr>\n",
       "\t<tr><td>reduce-83 </td><td>-7.0      </td><td>272.322   </td><td>61.51     </td><td>1         </td></tr>\n",
       "\t<tr><td>reduce-287</td><td>-7.0      </td><td>261.320   </td><td>82.01     </td><td>1         </td></tr>\n",
       "</tbody>\n",
       "</table>\n"
      ],
      "text/latex": [
       "\\begin{tabular}{r|lllll}\n",
       " Ligands & dG & MW & TPSA & Isoform\\\\\n",
       "\\hline\n",
       "\t reduce-134 & -7.2       & 280.369    & 86.24      & 1         \\\\\n",
       "\t reduce-449 & -7.2       & 274.318    & 65.96      & 1         \\\\\n",
       "\t reduce-439 & -7.2       & 273.291    & 86.70      & 1         \\\\\n",
       "\t reduce-419 & -7.0       & 273.310    & 73.87      & 1         \\\\\n",
       "\t reduce-83  & -7.0       & 272.322    & 61.51      & 1         \\\\\n",
       "\t reduce-287 & -7.0       & 261.320    & 82.01      & 1         \\\\\n",
       "\\end{tabular}\n"
      ],
      "text/markdown": [
       "\n",
       "Ligands | dG | MW | TPSA | Isoform | \n",
       "|---|---|---|---|---|---|\n",
       "| reduce-134 | -7.2       | 280.369    | 86.24      | 1          | \n",
       "| reduce-449 | -7.2       | 274.318    | 65.96      | 1          | \n",
       "| reduce-439 | -7.2       | 273.291    | 86.70      | 1          | \n",
       "| reduce-419 | -7.0       | 273.310    | 73.87      | 1          | \n",
       "| reduce-83  | -7.0       | 272.322    | 61.51      | 1          | \n",
       "| reduce-287 | -7.0       | 261.320    | 82.01      | 1          | \n",
       "\n",
       "\n"
      ],
      "text/plain": [
       "  Ligands    dG   MW      TPSA  Isoform\n",
       "1 reduce-134 -7.2 280.369 86.24 1      \n",
       "2 reduce-449 -7.2 274.318 65.96 1      \n",
       "3 reduce-439 -7.2 273.291 86.70 1      \n",
       "4 reduce-419 -7.0 273.310 73.87 1      \n",
       "5 reduce-83  -7.0 272.322 61.51 1      \n",
       "6 reduce-287 -7.0 261.320 82.01 1      "
      ]
     },
     "metadata": {},
     "output_type": "display_data"
    },
    {
     "data": {
      "text/html": [
       "<table>\n",
       "<thead><tr><th scope=col>Ligands</th><th scope=col>dG</th><th scope=col>MW</th><th scope=col>TPSA</th><th scope=col>Isoform</th></tr></thead>\n",
       "<tbody>\n",
       "\t<tr><td>reduce-134  </td><td>-8.2        </td><td>280.369     </td><td> 86.24      </td><td>2           </td></tr>\n",
       "\t<tr><td>D1Tric      </td><td>-7.8        </td><td>298.379     </td><td> 61.69      </td><td>2           </td></tr>\n",
       "\t<tr><td>reduce-38   </td><td>-7.7        </td><td>278.373     </td><td> 73.01      </td><td>2           </td></tr>\n",
       "\t<tr><td>reduce-443  </td><td>-7.7        </td><td>277.365     </td><td> 68.43      </td><td>2           </td></tr>\n",
       "\t<tr><td>reduce-78   </td><td>-7.6        </td><td>274.318     </td><td> 69.70      </td><td>2           </td></tr>\n",
       "\t<tr><td>troglitazone</td><td>-7.5        </td><td>441.540     </td><td>110.16      </td><td>2           </td></tr>\n",
       "</tbody>\n",
       "</table>\n"
      ],
      "text/latex": [
       "\\begin{tabular}{r|lllll}\n",
       " Ligands & dG & MW & TPSA & Isoform\\\\\n",
       "\\hline\n",
       "\t reduce-134   & -8.2         & 280.369      &  86.24       & 2           \\\\\n",
       "\t D1Tric       & -7.8         & 298.379      &  61.69       & 2           \\\\\n",
       "\t reduce-38    & -7.7         & 278.373      &  73.01       & 2           \\\\\n",
       "\t reduce-443   & -7.7         & 277.365      &  68.43       & 2           \\\\\n",
       "\t reduce-78    & -7.6         & 274.318      &  69.70       & 2           \\\\\n",
       "\t troglitazone & -7.5         & 441.540      & 110.16       & 2           \\\\\n",
       "\\end{tabular}\n"
      ],
      "text/markdown": [
       "\n",
       "Ligands | dG | MW | TPSA | Isoform | \n",
       "|---|---|---|---|---|---|\n",
       "| reduce-134   | -8.2         | 280.369      |  86.24       | 2            | \n",
       "| D1Tric       | -7.8         | 298.379      |  61.69       | 2            | \n",
       "| reduce-38    | -7.7         | 278.373      |  73.01       | 2            | \n",
       "| reduce-443   | -7.7         | 277.365      |  68.43       | 2            | \n",
       "| reduce-78    | -7.6         | 274.318      |  69.70       | 2            | \n",
       "| troglitazone | -7.5         | 441.540      | 110.16       | 2            | \n",
       "\n",
       "\n"
      ],
      "text/plain": [
       "  Ligands      dG   MW      TPSA   Isoform\n",
       "1 reduce-134   -8.2 280.369  86.24 2      \n",
       "2 D1Tric       -7.8 298.379  61.69 2      \n",
       "3 reduce-38    -7.7 278.373  73.01 2      \n",
       "4 reduce-443   -7.7 277.365  68.43 2      \n",
       "5 reduce-78    -7.6 274.318  69.70 2      \n",
       "6 troglitazone -7.5 441.540 110.16 2      "
      ]
     },
     "metadata": {},
     "output_type": "display_data"
    }
   ],
   "source": [
    "head(df1)\n",
    "head(df2)"
   ]
  },
  {
   "cell_type": "code",
   "execution_count": 17,
   "metadata": {
    "collapsed": true
   },
   "outputs": [],
   "source": [
    "led <- rbind(df1,df2)"
   ]
  },
  {
   "cell_type": "code",
   "execution_count": 20,
   "metadata": {
    "collapsed": true
   },
   "outputs": [],
   "source": [
    "write_csv(led, path = \"LigandEfficiencyRawData.csv\", col_names=TRUE)"
   ]
  },
  {
   "cell_type": "code",
   "execution_count": 44,
   "metadata": {},
   "outputs": [
    {
     "data": {
      "text/plain": [
       "R version 3.5.1 (2018-07-02)\n",
       "Platform: x86_64-pc-linux-gnu (64-bit)\n",
       "Running under: Ubuntu 18.04.1 LTS\n",
       "\n",
       "Matrix products: default\n",
       "BLAS: /usr/lib/x86_64-linux-gnu/openblas/libblas.so.3\n",
       "LAPACK: /usr/lib/x86_64-linux-gnu/libopenblasp-r0.2.20.so\n",
       "\n",
       "locale:\n",
       " [1] LC_CTYPE=en_IN       LC_NUMERIC=C         LC_TIME=en_IN       \n",
       " [4] LC_COLLATE=en_IN     LC_MONETARY=en_IN    LC_MESSAGES=en_IN   \n",
       " [7] LC_PAPER=en_IN       LC_NAME=C            LC_ADDRESS=C        \n",
       "[10] LC_TELEPHONE=C       LC_MEASUREMENT=en_IN LC_IDENTIFICATION=C \n",
       "\n",
       "attached base packages:\n",
       "[1] stats     graphics  grDevices utils     datasets  methods   base     \n",
       "\n",
       "other attached packages:\n",
       "[1] forcats_0.3.0   stringr_1.3.1   dplyr_0.7.6     purrr_0.2.5    \n",
       "[5] readr_1.1.1     tidyr_0.8.1     tibble_1.4.2    ggplot2_3.0.0  \n",
       "[9] tidyverse_1.2.1\n",
       "\n",
       "loaded via a namespace (and not attached):\n",
       " [1] pbdZMQ_0.3-3         tidyselect_0.2.4     repr_0.15.0         \n",
       " [4] haven_1.1.2          lattice_0.20-35      colorspace_1.3-2    \n",
       " [7] htmltools_0.3.6      base64enc_0.1-3      rlang_0.2.2         \n",
       "[10] pillar_1.3.0         glue_1.3.0           withr_2.1.2         \n",
       "[13] modelr_0.1.2         readxl_1.1.0         bindrcpp_0.2.2      \n",
       "[16] uuid_0.1-2           bindr_0.1.1          plyr_1.8.4          \n",
       "[19] munsell_0.5.0        gtable_0.2.0         cellranger_1.1.0    \n",
       "[22] rvest_0.3.2          evaluate_0.11        broom_0.5.0         \n",
       "[25] IRdisplay_0.5.0      Rcpp_0.12.18         backports_1.1.2     \n",
       "[28] scales_1.0.0         IRkernel_0.8.12.9000 jsonlite_1.5        \n",
       "[31] hms_0.4.2            digest_0.6.17        stringi_1.2.4       \n",
       "[34] grid_3.5.1           cli_1.0.0            tools_3.5.1         \n",
       "[37] magrittr_1.5         lazyeval_0.2.1       crayon_1.3.4        \n",
       "[40] pkgconfig_2.0.2      xml2_1.2.0           lubridate_1.7.4     \n",
       "[43] assertthat_0.2.0     httr_1.3.1           rstudioapi_0.7      \n",
       "[46] R6_2.2.2             nlme_3.1-137         compiler_3.5.1      "
      ]
     },
     "metadata": {},
     "output_type": "display_data"
    }
   ],
   "source": [
    "sessionInfo()"
   ]
  },
  {
   "cell_type": "code",
   "execution_count": null,
   "metadata": {
    "collapsed": true
   },
   "outputs": [],
   "source": []
  }
 ],
 "metadata": {
  "kernelspec": {
   "display_name": "R",
   "language": "R",
   "name": "ir"
  },
  "language_info": {
   "codemirror_mode": "r",
   "file_extension": ".r",
   "mimetype": "text/x-r-source",
   "name": "R",
   "pygments_lexer": "r",
   "version": "3.5.2"
  }
 },
 "nbformat": 4,
 "nbformat_minor": 2
}
