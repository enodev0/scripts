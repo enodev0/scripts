{
 "cells": [
  {
   "cell_type": "code",
   "execution_count": 2,
   "metadata": {},
   "outputs": [
    {
     "name": "stderr",
     "output_type": "stream",
     "text": [
      "── Attaching packages ─────────────────────────────────────── tidyverse 1.2.1 ──\n",
      "✔ ggplot2 3.0.0     ✔ purrr   0.2.5\n",
      "✔ tibble  1.4.2     ✔ dplyr   0.7.6\n",
      "✔ tidyr   0.8.1     ✔ stringr 1.3.1\n",
      "✔ readr   1.1.1     ✔ forcats 0.3.0\n",
      "── Conflicts ────────────────────────────────────────── tidyverse_conflicts() ──\n",
      "✖ dplyr::filter() masks stats::filter()\n",
      "✖ dplyr::lag()    masks stats::lag()\n"
     ]
    }
   ],
   "source": [
    "library(tidyverse)"
   ]
  },
  {
   "cell_type": "code",
   "execution_count": 3,
   "metadata": {},
   "outputs": [
    {
     "name": "stderr",
     "output_type": "stream",
     "text": [
      "Parsed with column specification:\n",
      "cols(\n",
      "  Ligands = col_character(),\n",
      "  dG = col_double(),\n",
      "  MW = col_double(),\n",
      "  TPSA = col_double(),\n",
      "  Isoform = col_integer()\n",
      ")\n"
     ]
    }
   ],
   "source": [
    "df <- read_csv(\"LigandEfficiencyRawData.csv\", col_names=TRUE)"
   ]
  },
  {
   "cell_type": "code",
   "execution_count": 4,
   "metadata": {
    "collapsed": true
   },
   "outputs": [],
   "source": [
    "Isoform <- df$Isoform\n",
    "Ligand <- df$Ligands\n",
    "TPSA <- df$TPSA\n",
    "MW <- df$MW\n",
    "deltaG <- df$dG"
   ]
  },
  {
   "cell_type": "markdown",
   "metadata": {},
   "source": [
    "$$ K_{i}(\\mu M) = exp\\left(\\frac{\\Delta G (kcal/mol) \\times 1000}{1.986 \\times 298.15} \\right) \\times \\frac{1}{10^{-6}} $$\n",
    "$$ pK_{i} = -log_{10}\\left(K_{i}(mole/L)\\right)$$\n",
    "$$ Ligand Efficiency = -\\frac{\\Delta G}{HAC}$$\n",
    "$$ B.E.I. = \\frac{pK_{i}}{MW (kDa)} $$\n",
    "$$ S.E.I. = \\frac{pK_{i}}{(TPSA/100)} $$"
   ]
  },
  {
   "cell_type": "code",
   "execution_count": 6,
   "metadata": {
    "collapsed": true
   },
   "outputs": [],
   "source": [
    "# Ki in micromolars\n",
    "Ki <- function(dG)\n",
    "{\n",
    "    return(exp((dG*1000)/(1.986*298.15))*(1/(10**(-6))))\n",
    "}\n",
    "\n",
    "# pKi\n",
    "pKi <- function(Ki)\n",
    "{\n",
    "    # Converting Ki from uM/L\n",
    "    # to M/L\n",
    "    return(-log10(Ki/1000000))\n",
    "}\n",
    "\n",
    "# Ligand Efficiency\n",
    "LE <- function()\n",
    "{\n",
    "    return(-(deltaG/HAC))\n",
    "}\n",
    "\n",
    "# Binding Efficiency Index\n",
    "BEI <- function()\n",
    "{\n",
    "    # Convert MW to kDa\n",
    "    kDa <- MW/1000\n",
    "    return(pki/kDa)\n",
    "}\n",
    "\n",
    "# Surface Binding Efficiency Index\n",
    "SEI <- function()\n",
    "{\n",
    "    # normalisze\n",
    "    norm <- TPSA/100\n",
    "    return(pki/norm)\n",
    "}"
   ]
  },
  {
   "cell_type": "code",
   "execution_count": 7,
   "metadata": {
    "collapsed": true
   },
   "outputs": [],
   "source": [
    "ki <- round(Ki(deltaG), digits=3)"
   ]
  },
  {
   "cell_type": "code",
   "execution_count": 8,
   "metadata": {
    "collapsed": true
   },
   "outputs": [],
   "source": [
    "pki <- round(pKi(ki), digits=3)"
   ]
  },
  {
   "cell_type": "code",
   "execution_count": 9,
   "metadata": {},
   "outputs": [
    {
     "data": {
      "text/html": [
       "<ol class=list-inline>\n",
       "\t<li>5.281</li>\n",
       "\t<li>5.281</li>\n",
       "\t<li>5.281</li>\n",
       "\t<li>5.134</li>\n",
       "\t<li>5.134</li>\n",
       "\t<li>5.134</li>\n",
       "</ol>\n"
      ],
      "text/latex": [
       "\\begin{enumerate*}\n",
       "\\item 5.281\n",
       "\\item 5.281\n",
       "\\item 5.281\n",
       "\\item 5.134\n",
       "\\item 5.134\n",
       "\\item 5.134\n",
       "\\end{enumerate*}\n"
      ],
      "text/markdown": [
       "1. 5.281\n",
       "2. 5.281\n",
       "3. 5.281\n",
       "4. 5.134\n",
       "5. 5.134\n",
       "6. 5.134\n",
       "\n",
       "\n"
      ],
      "text/plain": [
       "[1] 5.281 5.281 5.281 5.134 5.134 5.134"
      ]
     },
     "metadata": {},
     "output_type": "display_data"
    }
   ],
   "source": [
    "pki %>% head"
   ]
  },
  {
   "cell_type": "code",
   "execution_count": 12,
   "metadata": {
    "collapsed": true
   },
   "outputs": [],
   "source": [
    "bei <- round(BEI(), digits=3)\n",
    "sei <- round(SEI(), digits=3)"
   ]
  },
  {
   "cell_type": "code",
   "execution_count": 13,
   "metadata": {},
   "outputs": [
    {
     "data": {
      "text/html": [
       "<ol class=list-inline>\n",
       "\t<li>5.238</li>\n",
       "\t<li>5.238</li>\n",
       "\t<li>5.238</li>\n",
       "\t<li>7.343</li>\n",
       "\t<li>7.343</li>\n",
       "\t<li>7.343</li>\n",
       "</ol>\n"
      ],
      "text/latex": [
       "\\begin{enumerate*}\n",
       "\\item 5.238\n",
       "\\item 5.238\n",
       "\\item 5.238\n",
       "\\item 7.343\n",
       "\\item 7.343\n",
       "\\item 7.343\n",
       "\\end{enumerate*}\n"
      ],
      "text/markdown": [
       "1. 5.238\n",
       "2. 5.238\n",
       "3. 5.238\n",
       "4. 7.343\n",
       "5. 7.343\n",
       "6. 7.343\n",
       "\n",
       "\n"
      ],
      "text/plain": [
       "[1] 5.238 5.238 5.238 7.343 7.343 7.343"
      ]
     },
     "metadata": {},
     "output_type": "display_data"
    }
   ],
   "source": [
    "ki %>% head"
   ]
  },
  {
   "cell_type": "code",
   "execution_count": 14,
   "metadata": {},
   "outputs": [
    {
     "data": {
      "text/html": [
       "<ol class=list-inline>\n",
       "\t<li>5.281</li>\n",
       "\t<li>5.281</li>\n",
       "\t<li>5.281</li>\n",
       "\t<li>5.134</li>\n",
       "\t<li>5.134</li>\n",
       "\t<li>5.134</li>\n",
       "</ol>\n"
      ],
      "text/latex": [
       "\\begin{enumerate*}\n",
       "\\item 5.281\n",
       "\\item 5.281\n",
       "\\item 5.281\n",
       "\\item 5.134\n",
       "\\item 5.134\n",
       "\\item 5.134\n",
       "\\end{enumerate*}\n"
      ],
      "text/markdown": [
       "1. 5.281\n",
       "2. 5.281\n",
       "3. 5.281\n",
       "4. 5.134\n",
       "5. 5.134\n",
       "6. 5.134\n",
       "\n",
       "\n"
      ],
      "text/plain": [
       "[1] 5.281 5.281 5.281 5.134 5.134 5.134"
      ]
     },
     "metadata": {},
     "output_type": "display_data"
    }
   ],
   "source": [
    "pki %>% head"
   ]
  },
  {
   "cell_type": "code",
   "execution_count": 15,
   "metadata": {},
   "outputs": [
    {
     "data": {
      "text/html": [
       "<ol class=list-inline>\n",
       "\t<li>18.836</li>\n",
       "\t<li>19.251</li>\n",
       "\t<li>19.324</li>\n",
       "\t<li>18.785</li>\n",
       "\t<li>18.853</li>\n",
       "\t<li>19.646</li>\n",
       "</ol>\n"
      ],
      "text/latex": [
       "\\begin{enumerate*}\n",
       "\\item 18.836\n",
       "\\item 19.251\n",
       "\\item 19.324\n",
       "\\item 18.785\n",
       "\\item 18.853\n",
       "\\item 19.646\n",
       "\\end{enumerate*}\n"
      ],
      "text/markdown": [
       "1. 18.836\n",
       "2. 19.251\n",
       "3. 19.324\n",
       "4. 18.785\n",
       "5. 18.853\n",
       "6. 19.646\n",
       "\n",
       "\n"
      ],
      "text/plain": [
       "[1] 18.836 19.251 19.324 18.785 18.853 19.646"
      ]
     },
     "metadata": {},
     "output_type": "display_data"
    }
   ],
   "source": [
    "bei %>% head"
   ]
  },
  {
   "cell_type": "code",
   "execution_count": 16,
   "metadata": {},
   "outputs": [
    {
     "data": {
      "text/html": [
       "<ol class=list-inline>\n",
       "\t<li>6.124</li>\n",
       "\t<li>8.006</li>\n",
       "\t<li>6.091</li>\n",
       "\t<li>6.95</li>\n",
       "\t<li>8.347</li>\n",
       "\t<li>6.26</li>\n",
       "</ol>\n"
      ],
      "text/latex": [
       "\\begin{enumerate*}\n",
       "\\item 6.124\n",
       "\\item 8.006\n",
       "\\item 6.091\n",
       "\\item 6.95\n",
       "\\item 8.347\n",
       "\\item 6.26\n",
       "\\end{enumerate*}\n"
      ],
      "text/markdown": [
       "1. 6.124\n",
       "2. 8.006\n",
       "3. 6.091\n",
       "4. 6.95\n",
       "5. 8.347\n",
       "6. 6.26\n",
       "\n",
       "\n"
      ],
      "text/plain": [
       "[1] 6.124 8.006 6.091 6.950 8.347 6.260"
      ]
     },
     "metadata": {},
     "output_type": "display_data"
    }
   ],
   "source": [
    "sei %>% head"
   ]
  },
  {
   "cell_type": "code",
   "execution_count": 18,
   "metadata": {
    "collapsed": true
   },
   "outputs": [],
   "source": [
    "bindTable <- cbind(Ligand, Isoform, deltaG,MW,ki,pki,bei,sei)"
   ]
  },
  {
   "cell_type": "code",
   "execution_count": 19,
   "metadata": {
    "collapsed": true
   },
   "outputs": [],
   "source": [
    "colnames(bindTable) <- c(\"Ligand\", \"Isoform\", \"deltaG\", \"MW\", \"Ki\", \"pKi\", \"BEI\", \"SEI\")"
   ]
  },
  {
   "cell_type": "code",
   "execution_count": 20,
   "metadata": {
    "collapsed": true
   },
   "outputs": [],
   "source": [
    "df <- data.frame(bindTable)"
   ]
  },
  {
   "cell_type": "code",
   "execution_count": 21,
   "metadata": {},
   "outputs": [
    {
     "data": {
      "text/html": [
       "<table>\n",
       "<thead><tr><th scope=col>Ligand</th><th scope=col>Isoform</th><th scope=col>deltaG</th><th scope=col>MW</th><th scope=col>Ki</th><th scope=col>pKi</th><th scope=col>BEI</th><th scope=col>SEI</th></tr></thead>\n",
       "<tbody>\n",
       "\t<tr><td>reduce-134</td><td>1         </td><td>-7.2      </td><td>280.369   </td><td>5.238     </td><td>5.281     </td><td>18.836    </td><td>6.124     </td></tr>\n",
       "\t<tr><td>reduce-449</td><td>1         </td><td>-7.2      </td><td>274.318   </td><td>5.238     </td><td>5.281     </td><td>19.251    </td><td>8.006     </td></tr>\n",
       "\t<tr><td>reduce-439</td><td>1         </td><td>-7.2      </td><td>273.291   </td><td>5.238     </td><td>5.281     </td><td>19.324    </td><td>6.091     </td></tr>\n",
       "\t<tr><td>reduce-419</td><td>1         </td><td>-7        </td><td>273.31    </td><td>7.343     </td><td>5.134     </td><td>18.785    </td><td>6.95      </td></tr>\n",
       "\t<tr><td>reduce-83 </td><td>1         </td><td>-7        </td><td>272.322   </td><td>7.343     </td><td>5.134     </td><td>18.853    </td><td>8.347     </td></tr>\n",
       "\t<tr><td>reduce-287</td><td>1         </td><td>-7        </td><td>261.32    </td><td>7.343     </td><td>5.134     </td><td>19.646    </td><td>6.26      </td></tr>\n",
       "</tbody>\n",
       "</table>\n"
      ],
      "text/latex": [
       "\\begin{tabular}{r|llllllll}\n",
       " Ligand & Isoform & deltaG & MW & Ki & pKi & BEI & SEI\\\\\n",
       "\\hline\n",
       "\t reduce-134 & 1          & -7.2       & 280.369    & 5.238      & 5.281      & 18.836     & 6.124     \\\\\n",
       "\t reduce-449 & 1          & -7.2       & 274.318    & 5.238      & 5.281      & 19.251     & 8.006     \\\\\n",
       "\t reduce-439 & 1          & -7.2       & 273.291    & 5.238      & 5.281      & 19.324     & 6.091     \\\\\n",
       "\t reduce-419 & 1          & -7         & 273.31     & 7.343      & 5.134      & 18.785     & 6.95      \\\\\n",
       "\t reduce-83  & 1          & -7         & 272.322    & 7.343      & 5.134      & 18.853     & 8.347     \\\\\n",
       "\t reduce-287 & 1          & -7         & 261.32     & 7.343      & 5.134      & 19.646     & 6.26      \\\\\n",
       "\\end{tabular}\n"
      ],
      "text/markdown": [
       "\n",
       "Ligand | Isoform | deltaG | MW | Ki | pKi | BEI | SEI | \n",
       "|---|---|---|---|---|---|\n",
       "| reduce-134 | 1          | -7.2       | 280.369    | 5.238      | 5.281      | 18.836     | 6.124      | \n",
       "| reduce-449 | 1          | -7.2       | 274.318    | 5.238      | 5.281      | 19.251     | 8.006      | \n",
       "| reduce-439 | 1          | -7.2       | 273.291    | 5.238      | 5.281      | 19.324     | 6.091      | \n",
       "| reduce-419 | 1          | -7         | 273.31     | 7.343      | 5.134      | 18.785     | 6.95       | \n",
       "| reduce-83  | 1          | -7         | 272.322    | 7.343      | 5.134      | 18.853     | 8.347      | \n",
       "| reduce-287 | 1          | -7         | 261.32     | 7.343      | 5.134      | 19.646     | 6.26       | \n",
       "\n",
       "\n"
      ],
      "text/plain": [
       "  Ligand     Isoform deltaG MW      Ki    pKi   BEI    SEI  \n",
       "1 reduce-134 1       -7.2   280.369 5.238 5.281 18.836 6.124\n",
       "2 reduce-449 1       -7.2   274.318 5.238 5.281 19.251 8.006\n",
       "3 reduce-439 1       -7.2   273.291 5.238 5.281 19.324 6.091\n",
       "4 reduce-419 1       -7     273.31  7.343 5.134 18.785 6.95 \n",
       "5 reduce-83  1       -7     272.322 7.343 5.134 18.853 8.347\n",
       "6 reduce-287 1       -7     261.32  7.343 5.134 19.646 6.26 "
      ]
     },
     "metadata": {},
     "output_type": "display_data"
    }
   ],
   "source": [
    "df %>% head"
   ]
  },
  {
   "cell_type": "code",
   "execution_count": 22,
   "metadata": {
    "collapsed": true
   },
   "outputs": [],
   "source": [
    "write_csv(df, path = \"screenlib-bei-sei.csv\", col_names=TRUE)"
   ]
  },
  {
   "cell_type": "code",
   "execution_count": 68,
   "metadata": {},
   "outputs": [
    {
     "data": {
      "text/plain": [
       "R version 3.5.1 (2018-07-02)\n",
       "Platform: x86_64-pc-linux-gnu (64-bit)\n",
       "Running under: Ubuntu 18.04.1 LTS\n",
       "\n",
       "Matrix products: default\n",
       "BLAS: /usr/lib/x86_64-linux-gnu/openblas/libblas.so.3\n",
       "LAPACK: /usr/lib/x86_64-linux-gnu/libopenblasp-r0.2.20.so\n",
       "\n",
       "locale:\n",
       " [1] LC_CTYPE=en_IN       LC_NUMERIC=C         LC_TIME=en_IN       \n",
       " [4] LC_COLLATE=en_IN     LC_MONETARY=en_IN    LC_MESSAGES=en_IN   \n",
       " [7] LC_PAPER=en_IN       LC_NAME=C            LC_ADDRESS=C        \n",
       "[10] LC_TELEPHONE=C       LC_MEASUREMENT=en_IN LC_IDENTIFICATION=C \n",
       "\n",
       "attached base packages:\n",
       "[1] stats     graphics  grDevices utils     datasets  methods   base     \n",
       "\n",
       "other attached packages:\n",
       " [1] bindrcpp_0.2.2  forcats_0.3.0   stringr_1.3.1   dplyr_0.7.6    \n",
       " [5] purrr_0.2.5     readr_1.1.1     tidyr_0.8.1     tibble_1.4.2   \n",
       " [9] ggplot2_3.0.0   tidyverse_1.2.1\n",
       "\n",
       "loaded via a namespace (and not attached):\n",
       " [1] pbdZMQ_0.3-3         tidyselect_0.2.4     repr_0.15.0         \n",
       " [4] haven_1.1.2          lattice_0.20-35      colorspace_1.3-2    \n",
       " [7] htmltools_0.3.6      base64enc_0.1-3      rlang_0.2.2         \n",
       "[10] pillar_1.3.0         glue_1.3.0           withr_2.1.2         \n",
       "[13] modelr_0.1.2         readxl_1.1.0         uuid_0.1-2          \n",
       "[16] bindr_0.1.1          plyr_1.8.4           munsell_0.5.0       \n",
       "[19] gtable_0.2.0         cellranger_1.1.0     rvest_0.3.2         \n",
       "[22] evaluate_0.11        broom_0.5.0          IRdisplay_0.5.0     \n",
       "[25] Rcpp_0.12.18         backports_1.1.2      scales_1.0.0        \n",
       "[28] IRkernel_0.8.12.9000 jsonlite_1.5         hms_0.4.2           \n",
       "[31] digest_0.6.17        stringi_1.2.4        grid_3.5.1          \n",
       "[34] cli_1.0.0            tools_3.5.1          magrittr_1.5        \n",
       "[37] lazyeval_0.2.1       crayon_1.3.4         pkgconfig_2.0.2     \n",
       "[40] xml2_1.2.0           lubridate_1.7.4      assertthat_0.2.0    \n",
       "[43] httr_1.3.1           rstudioapi_0.7       R6_2.2.2            \n",
       "[46] nlme_3.1-137         compiler_3.5.1      "
      ]
     },
     "metadata": {},
     "output_type": "display_data"
    }
   ],
   "source": [
    "sessionInfo()"
   ]
  },
  {
   "cell_type": "code",
   "execution_count": null,
   "metadata": {
    "collapsed": true
   },
   "outputs": [],
   "source": []
  }
 ],
 "metadata": {
  "kernelspec": {
   "display_name": "R",
   "language": "R",
   "name": "ir"
  },
  "language_info": {
   "codemirror_mode": "r",
   "file_extension": ".r",
   "mimetype": "text/x-r-source",
   "name": "R",
   "pygments_lexer": "r",
   "version": "3.5.2"
  }
 },
 "nbformat": 4,
 "nbformat_minor": 2
}
